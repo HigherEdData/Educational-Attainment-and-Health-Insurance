{
 "cells": [
  {
   "cell_type": "markdown",
   "id": "3378cc48-fff8-427f-ad00-10c0011dc6f9",
   "metadata": {},
   "source": [
    "## Table 1: Variables Definition\n",
    "\n",
    "## DHS Educational Attainment and Health Insurance Data Exploration\n",
    "\n",
    "## By John Adeleke"
   ]
  },
  {
   "cell_type": "code",
   "execution_count": 1,
   "id": "d605bea8",
   "metadata": {},
   "outputs": [
    {
     "data": {
      "text/html": [
       "<style>div.jp-Notebook .datagrid-container {min-height: 448px; }</style>"
      ],
      "text/plain": [
       "<IPython.core.display.HTML object>"
      ]
     },
     "metadata": {},
     "output_type": "display_data"
    }
   ],
   "source": [
    "***load in the saved dataset\n",
    "\n",
    "use dhswomenrecode_nigeria.dta, clear"
   ]
  },
  {
   "cell_type": "code",
   "execution_count": 2,
   "id": "29637891",
   "metadata": {},
   "outputs": [
    {
     "name": "stdout",
     "output_type": "stream",
     "text": [
      "\n",
      "-------------------------------------------------------------------------------\n",
      "caseid                                                      case identification\n",
      "-------------------------------------------------------------------------------\n",
      "\n",
      "                  Type: String (str15)\n",
      "\n",
      "         Unique values: 41,821                    Missing \"\": 0/41,821\n",
      "\n",
      "              Examples: \"272  24  2\"\n",
      "                        \"506  19  3\"\n",
      "                        \"739   5  2\"\n",
      "                        \"1041  22  2\"\n",
      "\n",
      "               Warning: Variable has leading and embedded blanks.\n",
      "\n",
      "-------------------------------------------------------------------------------\n",
      "v013                                                       age in 5-year groups\n",
      "-------------------------------------------------------------------------------\n",
      "\n",
      "                  Type: Numeric (byte)\n",
      "                 Label: V013\n",
      "\n",
      "                 Range: [1,7]                         Units: 1\n",
      "         Unique values: 7                         Missing .: 0/41,821\n",
      "\n",
      "            Tabulation: Freq.   Numeric  Label\n",
      "                        8,423         1  15-19\n",
      "                        6,844         2  20-24\n",
      "                        7,203         3  25-29\n",
      "                        5,997         4  30-34\n",
      "                        5,406         5  35-39\n",
      "                        4,057         6  40-44\n",
      "                        3,891         7  45-49\n",
      "\n",
      "-------------------------------------------------------------------------------\n",
      "v025                                                 type of place of residence\n",
      "-------------------------------------------------------------------------------\n",
      "\n",
      "                  Type: Numeric (byte)\n",
      "                 Label: V025\n",
      "\n",
      "                 Range: [1,2]                         Units: 1\n",
      "         Unique values: 2                         Missing .: 0/41,821\n",
      "\n",
      "            Tabulation: Freq.   Numeric  Label\n",
      "                       16,984         1  urban\n",
      "                       24,837         2  rural\n",
      "\n",
      "-------------------------------------------------------------------------------\n",
      "v106                                                  highest educational level\n",
      "-------------------------------------------------------------------------------\n",
      "\n",
      "                  Type: Numeric (byte)\n",
      "                 Label: V106\n",
      "\n",
      "                 Range: [0,3]                         Units: 1\n",
      "         Unique values: 4                         Missing .: 0/41,821\n",
      "\n",
      "            Tabulation: Freq.   Numeric  Label\n",
      "                       14,398         0  no education\n",
      "                        6,383         1  primary\n",
      "                       16,698         2  secondary\n",
      "                        4,342         3  higher\n",
      "\n",
      "-------------------------------------------------------------------------------\n",
      "v394                                     visited health facility last 12 months\n",
      "-------------------------------------------------------------------------------\n",
      "\n",
      "                  Type: Numeric (byte)\n",
      "                 Label: V394\n",
      "\n",
      "                 Range: [0,1]                         Units: 1\n",
      "         Unique values: 2                         Missing .: 0/41,821\n",
      "\n",
      "            Tabulation: Freq.   Numeric  Label\n",
      "                       25,259         0  no\n",
      "                       16,562         1  yes\n",
      "\n",
      "-------------------------------------------------------------------------------\n",
      "v481                                                covered by health insurance\n",
      "-------------------------------------------------------------------------------\n",
      "\n",
      "                  Type: Numeric (byte)\n",
      "                 Label: V481\n",
      "\n",
      "                 Range: [0,1]                         Units: 1\n",
      "         Unique values: 2                         Missing .: 0/41,821\n",
      "\n",
      "            Tabulation: Freq.   Numeric  Label\n",
      "                       40,704         0  no\n",
      "                        1,117         1  yes\n"
     ]
    }
   ],
   "source": [
    "codebook"
   ]
  },
  {
   "cell_type": "markdown",
   "id": "43b4f138",
   "metadata": {},
   "source": [
    "## Renaming my variables of interest for easy identification"
   ]
  },
  {
   "cell_type": "code",
   "execution_count": 3,
   "id": "2bc4cac6",
   "metadata": {},
   "outputs": [],
   "source": [
    "***rename variables of interest for esay identification\n",
    "\n",
    "rename v106 education\n",
    "rename v013 age\n",
    "rename v025 residence\n",
    "rename v394 health_utilization\n",
    "rename v481 health_insurance"
   ]
  },
  {
   "cell_type": "code",
   "execution_count": 8,
   "id": "cabd3702-5668-4193-ae73-e622a62f6bba",
   "metadata": {},
   "outputs": [
    {
     "name": "stdout",
     "output_type": "stream",
     "text": [
      "file dhswomenrecode_nigeria.dta saved\n"
     ]
    }
   ],
   "source": [
    "save dhswomenrecode_nigeria.dta, replace"
   ]
  }
 ],
 "metadata": {
  "kernelspec": {
   "display_name": "Stata (nbstata)",
   "language": "stata",
   "name": "nbstata"
  },
  "language_info": {
   "file_extension": ".do",
   "mimetype": "text/x-stata",
   "name": "stata",
   "version": "17"
  }
 },
 "nbformat": 4,
 "nbformat_minor": 5
}
