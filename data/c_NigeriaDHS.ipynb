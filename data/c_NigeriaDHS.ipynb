{
 "cells": [
  {
   "cell_type": "markdown",
   "id": "ff6f7bc5",
   "metadata": {},
   "source": [
    "## Educational Attainment and Health Insurance Data Exploration\n",
    "\n",
    "## By John Adeleke\n",
    "\n",
    "## Codes for downloading Nigerian DHS dataset"
   ]
  },
  {
   "cell_type": "code",
   "execution_count": 1,
   "id": "a963e001",
   "metadata": {},
   "outputs": [
    {
     "data": {
      "text/html": [
       "<style>div.jp-Notebook .datagrid-container {min-height: 448px; }</style>"
      ],
      "text/plain": [
       "<IPython.core.display.HTML object>"
      ]
     },
     "metadata": {},
     "output_type": "display_data"
    },
    {
     "name": "stdout",
     "output_type": "stream",
     "text": [
      "\n"
     ]
    }
   ],
   "source": [
    "set maxvar 120000"
   ]
  },
  {
   "cell_type": "code",
   "execution_count": 2,
   "id": "315ed8a0",
   "metadata": {},
   "outputs": [
    {
     "name": "stdout",
     "output_type": "stream",
     "text": [
      "note:\n",
      "      https://dhsprogram.com/customcf/legacy/data/download_dataset.cfm?Filena\n",
      "      > me=NGIR7BDT.ZIP&Tp=1&Ctry_Code=NG&surv_id=528&dmode=normal redirected\n",
      "      to\n",
      "      https://dhsprogram.com/data/dataset_admin/login_main.cfm;jsessionid=7B7\n",
      "      > FC9C03537B54E01FD5BF20166D09B.cfusion?CFID=265495052&CFTOKEN=c9f27b35\n",
      "      > 1a32577a-19FE55B3-A633-688B-3E189425ED2EE96D\n"
     ]
    }
   ],
   "source": [
    "***users need to make an account and login to DHS website to access data\n",
    "\n",
    "*copy \"https://dhsprogram.com/customcf/legacy/data/download_dataset.cfm?Filename=NGIR7BDT.ZIP&Tp=1&Ctry_Code=NG&surv_id=528&dmode=normal\" ///\n",
    "d_dhswomen_nigeria.dta, replace"
   ]
  },
  {
   "cell_type": "code",
   "execution_count": 3,
   "id": "7f422234",
   "metadata": {},
   "outputs": [],
   "source": [
    "***load data manually and keep variables of interest\n",
    "\n",
    "use caseid v106 v013 v394 v025 v481 using /Users/johnadeleke/Desktop/Stats2/soc211_assignment/NGIR7BDT/NGIR7BFL.DTA, clear"
   ]
  },
  {
   "cell_type": "code",
   "execution_count": 4,
   "id": "1b218a76-45fa-41a3-8d5f-69832b669b19",
   "metadata": {},
   "outputs": [
    {
     "name": "stdout",
     "output_type": "stream",
     "text": [
      "file dhswomenrecode_nigeria.dta saved\n"
     ]
    }
   ],
   "source": [
    "***save new data file\n",
    "\n",
    "save dhswomenrecode_nigeria.dta, replace"
   ]
  },
  {
   "cell_type": "code",
   "execution_count": null,
   "id": "dde6f8df",
   "metadata": {},
   "outputs": [],
   "source": []
  }
 ],
 "metadata": {
  "kernelspec": {
   "display_name": "Stata (nbstata)",
   "language": "stata",
   "name": "nbstata"
  },
  "language_info": {
   "file_extension": ".do",
   "mimetype": "text/x-stata",
   "name": "stata",
   "version": "17"
  }
 },
 "nbformat": 4,
 "nbformat_minor": 5
}
