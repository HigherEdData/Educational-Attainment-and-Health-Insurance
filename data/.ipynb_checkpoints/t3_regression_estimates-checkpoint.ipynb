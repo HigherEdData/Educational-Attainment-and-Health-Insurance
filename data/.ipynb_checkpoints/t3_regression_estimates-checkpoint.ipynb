{
 "cells": [
  {
   "cell_type": "markdown",
   "id": "ab733416",
   "metadata": {},
   "source": [
    "## Regression estimates\n",
    "\n",
    "## DHS Educational Attainment and Health Insurance Data Exploration\n",
    "\n",
    "## By John Adeleke"
   ]
  },
  {
   "cell_type": "code",
   "execution_count": 1,
   "id": "ccf2ebfe",
   "metadata": {},
   "outputs": [
    {
     "data": {
      "text/html": [
       "<style>div.jp-Notebook .datagrid-container {min-height: 448px; }</style>"
      ],
      "text/plain": [
       "<IPython.core.display.HTML object>"
      ]
     },
     "metadata": {},
     "output_type": "display_data"
    }
   ],
   "source": [
    "use dhswomenrecode_nigeria.dta, clear"
   ]
  },
  {
   "cell_type": "code",
   "execution_count": 2,
   "id": "c088f827",
   "metadata": {},
   "outputs": [],
   "source": [
    "est clear"
   ]
  },
  {
   "cell_type": "code",
   "execution_count": 3,
   "id": "5e1757dd",
   "metadata": {
    "scrolled": true
   },
   "outputs": [],
   "source": [
    "qui eststo: reg health_insurance i.age i.residence i.health_utilization i.education"
   ]
  },
  {
   "cell_type": "code",
   "execution_count": 4,
   "id": "1de6f687",
   "metadata": {},
   "outputs": [],
   "source": [
    "qui eststo: logit health_insurance i.age i.residence i.health_utilization i.education"
   ]
  },
  {
   "cell_type": "code",
   "execution_count": 5,
   "id": "17beed15",
   "metadata": {},
   "outputs": [],
   "source": [
    "qui eststo: margins, dydx(*) post atmeans"
   ]
  },
  {
   "cell_type": "code",
   "execution_count": 11,
   "id": "1856f15f",
   "metadata": {},
   "outputs": [
    {
     "name": "stdout",
     "output_type": "stream",
     "text": [
      "\n",
      "“Odds Ratio”\n",
      "-----------------------------------------------------------------------\n",
      "                              (1)              (2)              (3)    \n",
      "                              OLS     MLE / logi~c     MLE margin~s    \n",
      "-----------------------------------------------------------------------\n",
      "main                                                                   \n",
      "15-19                        0.00             0.00             0.00    \n",
      "                              (.)              (.)              (.)    \n",
      "20-24                       -0.01 ***        -0.44 ***        -0.00 ***\n",
      "                           (0.00)           (0.13)           (0.00)    \n",
      "25-29                       -0.01 ***        -0.34 **         -0.00 ** \n",
      "                           (0.00)           (0.12)           (0.00)    \n",
      "30-34                        0.00             0.13             0.00    \n",
      "                           (0.00)           (0.12)           (0.00)    \n",
      "35-39                        0.01 ***         0.47 ***         0.01 ***\n",
      "                           (0.00)           (0.12)           (0.00)    \n",
      "40-44                        0.01 ***         0.52 ***         0.01 ***\n",
      "                           (0.00)           (0.13)           (0.00)    \n",
      "45-49                        0.01 **          0.45 ***         0.01 ** \n",
      "                           (0.00)           (0.13)           (0.00)    \n",
      "urban                        0.00             0.00             0.00    \n",
      "                              (.)              (.)              (.)    \n",
      "rural                       -0.01 ***        -0.52 ***        -0.01 ***\n",
      "                           (0.00)           (0.07)           (0.00)    \n",
      "no                           0.00             0.00             0.00    \n",
      "                              (.)              (.)              (.)    \n",
      "yes                          0.01 ***         0.47 ***         0.01 ***\n",
      "                           (0.00)           (0.07)           (0.00)    \n",
      "no education                 0.00             0.00             0.00    \n",
      "                              (.)              (.)              (.)    \n",
      "primary                     -0.00 ^          -0.17            -0.00    \n",
      "                           (0.00)           (0.17)           (0.00)    \n",
      "secondary                    0.01 ***         1.05 ***         0.01 ***\n",
      "                           (0.00)           (0.11)           (0.00)    \n",
      "higher                       0.12 ***         2.70 ***         0.09 ***\n",
      "                           (0.00)           (0.11)           (0.01)    \n",
      "Constant                     0.01 ***        -4.81 ***                 \n",
      "                           (0.00)           (0.14)                     \n",
      "-----------------------------------------------------------------------\n",
      "r-squared                    0.06                                      \n",
      "observations               41,821           41,821           41,821    \n",
      "-----------------------------------------------------------------------\n",
      "^ p<.1, * p<.05, ** p<.01, *** p<.001\n"
     ]
    }
   ],
   "source": [
    "esttab ///\n",
    ", cells(b(star fmt(2)) se(fmt(2) par)) stardetach  ///\n",
    " legend starlevels(^ .1 * .05 ** .01 *** .001) ///\n",
    "mlabels(\"OLS\" \"MLE / logistic\" \"MLE marginal effects\") title(“Odds Ratio”) ///\n",
    "collabels(none) label stats(r2 N, fmt(2 %9.0fc) label(r-squared observations))"
   ]
  },
  {
   "cell_type": "code",
   "execution_count": 14,
   "id": "2b0c04b7",
   "metadata": {},
   "outputs": [
    {
     "name": "stdout",
     "output_type": "stream",
     "text": [
      "(output written to t3_health_insurance_nigeria.rtf)\n"
     ]
    }
   ],
   "source": [
    "esttab using t3_health_insurance_nigeria.rtf ///\n",
    ", cells(b(star fmt(2)) se(fmt(2) par)) stardetach  ///\n",
    " legend starlevels(^ .1 * .05 ** .01 *** .001) ///\n",
    "mlabels(\"OLS\" \"MLE / logistic\" \"MLE marginal effects\") title(“Odds Ratio”) ///\n",
    "collabels(none) label replace stats(r2 N, 2 fmt(%9.0fc))"
   ]
  },
  {
   "cell_type": "code",
   "execution_count": null,
   "id": "2bdcf977",
   "metadata": {},
   "outputs": [],
   "source": []
  }
 ],
 "metadata": {
  "kernelspec": {
   "display_name": "Stata (nbstata)",
   "language": "stata",
   "name": "nbstata"
  },
  "language_info": {
   "file_extension": ".do",
   "mimetype": "text/x-stata",
   "name": "stata",
   "version": "17"
  }
 },
 "nbformat": 4,
 "nbformat_minor": 5
}
