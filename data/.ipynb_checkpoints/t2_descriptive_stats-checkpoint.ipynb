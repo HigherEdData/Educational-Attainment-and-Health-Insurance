{
 "cells": [
  {
   "cell_type": "markdown",
   "id": "498499f8",
   "metadata": {},
   "source": [
    "## Mean and Standard Deviation\n",
    "\n",
    "## DHS Educational Attainment and Health Insurance Data Exploration\n",
    "\n",
    "## By John Adeleke"
   ]
  },
  {
   "cell_type": "code",
   "execution_count": 1,
   "id": "c94b4b3b",
   "metadata": {},
   "outputs": [
    {
     "data": {
      "text/html": [
       "<style>div.jp-Notebook .datagrid-container {min-height: 448px; }</style>"
      ],
      "text/plain": [
       "<IPython.core.display.HTML object>"
      ]
     },
     "metadata": {},
     "output_type": "display_data"
    }
   ],
   "source": [
    "use dhswomenrecode_nigeria.dta, clear"
   ]
  },
  {
   "cell_type": "code",
   "execution_count": 2,
   "id": "8022f293",
   "metadata": {},
   "outputs": [
    {
     "name": "stdout",
     "output_type": "stream",
     "text": [
      "\n",
      "Contains data from dhswomenrecode_nigeria.dta\n",
      " Observations:        41,821                  \n",
      "    Variables:             5                  29 Apr 2024 19:27\n",
      "-------------------------------------------------------------------------------\n",
      "Variable      Storage   Display    Value\n",
      "    name         type    format    label      Variable label\n",
      "-------------------------------------------------------------------------------\n",
      "age             byte    %8.0g      V013       age in 5-year groups\n",
      "residence       byte    %8.0g      V025       type of place of residence\n",
      "education       byte    %8.0g      V106       highest educational level\n",
      "health_utiliz~n byte    %8.0g      V394       visited health facility last 12\n",
      "                                                months\n",
      "health_insura~e byte    %8.0g      V481       covered by health insurance\n",
      "-------------------------------------------------------------------------------\n",
      "Sorted by: \n"
     ]
    }
   ],
   "source": [
    "describe"
   ]
  },
  {
   "cell_type": "code",
   "execution_count": 7,
   "id": "92448a27",
   "metadata": {},
   "outputs": [
    {
     "name": "stdout",
     "output_type": "stream",
     "text": [
      "\n",
      "-------------------------\n",
      "                      (1)\n",
      "                         \n",
      "                  mean/sd\n",
      "-------------------------\n",
      "age                  3.50\n",
      "                   (1.93)\n",
      "residence            1.59\n",
      "                   (0.49)\n",
      "education            1.26\n",
      "                   (1.04)\n",
      "health_uti~n         0.40\n",
      "                   (0.49)\n",
      "health_ins~e         0.03\n",
      "                   (0.16)\n",
      "-------------------------\n",
      "N                  41,821\n",
      "-------------------------\n"
     ]
    }
   ],
   "source": [
    "eststo contractterm: quietly estpost summarize age residence education health_utilization health_insurance \n",
    "\n",
    "esttab, cells(\"mean(fmt(%9.2fc))\" sd(par)) stats(N, fmt(%9.0fc))"
   ]
  },
  {
   "cell_type": "code",
   "execution_count": 4,
   "id": "3635c5d5",
   "metadata": {},
   "outputs": [
    {
     "name": "stdout",
     "output_type": "stream",
     "text": [
      "(output written to tables/t1_descriptives.rft)\n"
     ]
    }
   ],
   "source": [
    "esttab using tables/t1_descriptives.rft, cells(\"mean(fmt(2))\" \"sd(fmt(2))\") /// \n",
    "replace"
   ]
  },
  {
   "cell_type": "code",
   "execution_count": null,
   "id": "079beb32",
   "metadata": {},
   "outputs": [],
   "source": []
  }
 ],
 "metadata": {
  "kernelspec": {
   "display_name": "Stata (nbstata)",
   "language": "stata",
   "name": "nbstata"
  },
  "language_info": {
   "file_extension": ".do",
   "mimetype": "text/x-stata",
   "name": "stata",
   "version": "17"
  }
 },
 "nbformat": 4,
 "nbformat_minor": 5
}
