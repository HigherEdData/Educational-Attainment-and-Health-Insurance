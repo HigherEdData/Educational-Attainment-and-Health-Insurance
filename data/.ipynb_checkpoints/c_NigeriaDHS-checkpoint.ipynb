{
 "cells": [
  {
   "cell_type": "markdown",
   "id": "ff6f7bc5",
   "metadata": {},
   "source": [
    "## Educational Attainment and Health Insurance Data Exploration\n",
    "\n",
    "## By John Adeleke\n",
    "\n",
    "## Codes for downloading Nigerian DHS dataset"
   ]
  },
  {
   "cell_type": "code",
   "execution_count": 13,
   "id": "a963e001",
   "metadata": {},
   "outputs": [
    {
     "name": "stdout",
     "output_type": "stream",
     "text": [
      "\u001b[31mno; dataset in memory has changed since last saved\n",
      "r(4);\u001b[0m\n"
     ]
    }
   ],
   "source": [
    "set maxvar 120000"
   ]
  },
  {
   "cell_type": "markdown",
   "id": "1ccf6277-52fb-47cf-b0e4-858c133409fb",
   "metadata": {},
   "source": [
    "#Code for downloading and building DHS dataset. \n",
    "\n",
    "#For Datahub replication package assignment"
   ]
  },
  {
   "cell_type": "markdown",
   "id": "e9a61149",
   "metadata": {},
   "source": [
    "## Make account and login to access data."
   ]
  },
  {
   "cell_type": "code",
   "execution_count": 6,
   "id": "315ed8a0",
   "metadata": {},
   "outputs": [
    {
     "name": "stdout",
     "output_type": "stream",
     "text": [
      "(file d_dhswomen_nigeria.dta not found)\n",
      "note:\n",
      "      https://dhsprogram.com/customcf/legacy/data/download_dataset.cfm?Filena\n",
      "      > me=NGIR7BDT.ZIP&Tp=1&Ctry_Code=NG&surv_id=528&dmode=normal redirected\n",
      "      to\n",
      "      https://dhsprogram.com/data/dataset_admin/login_main.cfm;jsessionid=8A6\n",
      "      > BF9B4166B40DDE7010B05D175A445.cfusion?CFID=264593301&CFTOKEN=53446422\n",
      "      > 57efe4b4-BDB5F58E-C576-A5AF-75EEA5E247881FC6\n"
     ]
    }
   ],
   "source": [
    "copy \"https://dhsprogram.com/customcf/legacy/data/download_dataset.cfm?Filename=NGIR7BDT.ZIP&Tp=1&Ctry_Code=NG&surv_id=528&dmode=normal\" ///\n",
    "d_dhswomen_nigeria.dta, replace"
   ]
  },
  {
   "cell_type": "code",
   "execution_count": 14,
   "id": "7f422234",
   "metadata": {},
   "outputs": [],
   "source": [
    "use /Users/johnadeleke/Desktop/Stats2/soc211_assignment/NGIR7BDT/NGIR7BFL.DTA, clear"
   ]
  },
  {
   "cell_type": "markdown",
   "id": "90e9afec",
   "metadata": {},
   "source": [
    "## Keeping my variables of interest"
   ]
  },
  {
   "cell_type": "code",
   "execution_count": 15,
   "id": "d75ed584",
   "metadata": {},
   "outputs": [],
   "source": [
    "keep v106 v013 v394 v025 v481 "
   ]
  },
  {
   "cell_type": "code",
   "execution_count": 16,
   "id": "1b218a76-45fa-41a3-8d5f-69832b669b19",
   "metadata": {},
   "outputs": [
    {
     "name": "stdout",
     "output_type": "stream",
     "text": [
      "file dhswomenrecode_nigeria.dta saved\n"
     ]
    }
   ],
   "source": [
    "save dhswomenrecode_nigeria.dta, replace"
   ]
  },
  {
   "cell_type": "code",
   "execution_count": null,
   "id": "dde6f8df",
   "metadata": {},
   "outputs": [],
   "source": []
  }
 ],
 "metadata": {
  "kernelspec": {
   "display_name": "Stata (nbstata)",
   "language": "stata",
   "name": "nbstata"
  },
  "language_info": {
   "file_extension": ".do",
   "mimetype": "text/x-stata",
   "name": "stata",
   "version": "17"
  }
 },
 "nbformat": 4,
 "nbformat_minor": 5
}
